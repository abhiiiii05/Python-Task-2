{
 "cells": [
  {
   "cell_type": "code",
   "execution_count": null,
   "id": "e85216a7-5438-45de-a0e1-54e2ea005d21",
   "metadata": {},
   "outputs": [],
   "source": [
    "Q1. You are writing code for a company. The requirement of the company is that you create a python \n",
    "function that will check whether the password entered by the user is correct or not. The function should \n",
    "take the password as input and return the string “Valid Password” if the entered password follows the \n",
    "below-given password guidelines else it should return “Invalid Password”.\n",
    "\n",
    "\n",
    "Note: 1. The Password should contain at least two uppercase letters and at least two lowercase letters.\n",
    "\n",
    "2. The Password should contain at least a number and three special characters.\n",
    "\n",
    "3. The length of the password should be 10 characters long."
   ]
  },
  {
   "cell_type": "code",
   "execution_count": 10,
   "id": "a185ce82-d86f-4a09-8c43-6f496c726853",
   "metadata": {},
   "outputs": [],
   "source": [
    "def check_password(password):\n",
    "    \n",
    "    num_uppercase = 0\n",
    "    num_lowercase = 0\n",
    "    num_char = 0\n",
    "    num_digits = 0\n",
    "    \n",
    "    for item in password:\n",
    "        if len(password) != 10:\n",
    "            print(\"Invalid password\")\n",
    "    \n",
    "    for char in password:\n",
    "        if char.isupper():\n",
    "            num_uppercase += 1\n",
    "        elif char.islower():\n",
    "            num_lowercase += 1\n",
    "        elif char.isdigit():\n",
    "            num_digits += 1\n",
    "        elif not char.isalnum():\n",
    "            num_char += 1\n",
    "            \n",
    "    \n",
    "    if (num_uppercase >= 2 and num_lowercase >= 2 and num_digits >= 1 and num_char >= 3):\n",
    "        return \"Valid Password\"\n",
    "    else:\n",
    "        return \"Invalid Password\""
   ]
  },
  {
   "cell_type": "code",
   "execution_count": 12,
   "id": "399de910-9b74-4892-8e1b-dde73bc4106c",
   "metadata": {},
   "outputs": [
    {
     "name": "stdin",
     "output_type": "stream",
     "text": [
      "Enter the Password ASdf@#$345\n"
     ]
    },
    {
     "name": "stdout",
     "output_type": "stream",
     "text": [
      "Valid Password\n"
     ]
    }
   ],
   "source": [
    "enter = input(\"Enter the Password\")\n",
    "verify = check_password(enter)\n",
    "print(verify)"
   ]
  },
  {
   "cell_type": "code",
   "execution_count": null,
   "id": "be9aaefd-3cee-49a0-9cdb-1f5e98777783",
   "metadata": {},
   "outputs": [],
   "source": [
    "Q2. Solve the below-given questions using at least one of the following: \n",
    "\n",
    "1. Lambda function\n",
    "2. Filter function\n",
    "3. Zap function\n",
    "4. List Comprehension\n",
    "A Check if the string starts with a particular letter.\n",
    "B Check if the string is numeric.\n",
    "C Sort a list of tuples having fruit names and their quantity. [(\"mango\",99),(\"orange\",80), (\"grapes\", 1000)]\n",
    "D Find the squares of numbers from 1 to 10.\n",
    "E Find the cube root of numbers from 1 to 10.\n",
    "F Check if a given number is even.\n",
    "G Filter odd numbers from the given list.\n",
    "\n",
    " [1,2,3,4,5,6,7,8,9,10]\n",
    "H Sort a list of integers into positive and negative integers lists.\n",
    "\n",
    " [1,2,3,4,5,6,-1,-2,-3,-4,-5,0]"
   ]
  },
  {
   "cell_type": "code",
   "execution_count": 13,
   "id": "62f8d0b5-d381-43fd-bbba-fa9cf428515c",
   "metadata": {},
   "outputs": [],
   "source": [
    "#Check if the string starts with a particular letter.\n",
    "l = [\"sudh\" , \"pwskills\" , \"kumar\" , \"bengalore\" , \"krish\"]"
   ]
  },
  {
   "cell_type": "code",
   "execution_count": 24,
   "id": "8c6fa059-c4af-41c0-97cc-004bf33f4a5d",
   "metadata": {},
   "outputs": [
    {
     "data": {
      "text/plain": [
       "['kumar', 'krish']"
      ]
     },
     "execution_count": 24,
     "metadata": {},
     "output_type": "execute_result"
    }
   ],
   "source": [
    "list(filter(lambda x : x.startswith(\"k\"),l))"
   ]
  },
  {
   "cell_type": "code",
   "execution_count": 25,
   "id": "8f8a9dd1-97d4-4eec-bfbd-89f8cd126bbf",
   "metadata": {},
   "outputs": [],
   "source": [
    "#Check if the string is numeric.\n",
    "l1 = [\"123\", \"1bc\", \"456\" ,\"abc123\"]"
   ]
  },
  {
   "cell_type": "code",
   "execution_count": 32,
   "id": "67b692d1-f15c-4ab8-901b-9504c7db9e5b",
   "metadata": {},
   "outputs": [
    {
     "data": {
      "text/plain": [
       "['123', '456']"
      ]
     },
     "execution_count": 32,
     "metadata": {},
     "output_type": "execute_result"
    }
   ],
   "source": [
    "list(filter(lambda x: x.isnumeric(), l1))"
   ]
  },
  {
   "cell_type": "code",
   "execution_count": 35,
   "id": "3fb5e3a8-25bf-4a23-883e-ad6241c74a70",
   "metadata": {},
   "outputs": [
    {
     "name": "stdout",
     "output_type": "stream",
     "text": [
      "[('orange', 80), ('mango', 99), ('grapes', 1000)]\n"
     ]
    }
   ],
   "source": [
    "#Sort a list of tuples having fruit names and their quantity. \n",
    "l2 = [(\"mango\",99),(\"orange\",80), (\"grapes\", 1000)]\n",
    "sorted_list = sorted(l2,key = lambda x : x[1])\n",
    "print (sorted_list)"
   ]
  },
  {
   "cell_type": "code",
   "execution_count": 37,
   "id": "8dbdb253-383a-41c4-8914-be354ecba836",
   "metadata": {},
   "outputs": [
    {
     "data": {
      "text/plain": [
       "[1, 4, 9, 16, 25, 36, 49, 64, 81]"
      ]
     },
     "execution_count": 37,
     "metadata": {},
     "output_type": "execute_result"
    }
   ],
   "source": [
    "#Find the squares of numbers from 1 to 10.\n",
    "l4 =  range(1,10)\n",
    "list(map(lambda x : x**2,l4))"
   ]
  },
  {
   "cell_type": "code",
   "execution_count": 38,
   "id": "39a8e1f5-b9e8-40a7-b7cd-44237b81c365",
   "metadata": {},
   "outputs": [
    {
     "data": {
      "text/plain": [
       "[1, 8, 27, 64, 125, 216, 343, 512, 729]"
      ]
     },
     "execution_count": 38,
     "metadata": {},
     "output_type": "execute_result"
    }
   ],
   "source": [
    "#Find the cube root of numbers from 1 to 10.\n",
    "list(map(lambda x : x**3,l4))"
   ]
  },
  {
   "cell_type": "code",
   "execution_count": 40,
   "id": "6baa18b8-b496-4543-af70-f1ebad034c50",
   "metadata": {},
   "outputs": [
    {
     "data": {
      "text/plain": [
       "[2, 4, 6, 8, 10]"
      ]
     },
     "execution_count": 40,
     "metadata": {},
     "output_type": "execute_result"
    }
   ],
   "source": [
    "#Check if a given number is even.\n",
    "l5 = [1,2,3,4,5,6,7,8,9,10]\n",
    "list(filter(lambda x : x % 2 == 0,l5))"
   ]
  },
  {
   "cell_type": "code",
   "execution_count": 41,
   "id": "d788d62f-2d33-4fab-ba72-4f9be3854eff",
   "metadata": {},
   "outputs": [
    {
     "data": {
      "text/plain": [
       "[1, 3, 5, 7, 9]"
      ]
     },
     "execution_count": 41,
     "metadata": {},
     "output_type": "execute_result"
    }
   ],
   "source": [
    "#Filter odd numbers from the given list.\n",
    "l5 = [1,2,3,4,5,6,7,8,9,10]\n",
    "list(filter(lambda x : x % 2 != 0,l5))    "
   ]
  },
  {
   "cell_type": "code",
   "execution_count": 44,
   "id": "a68b5476-e619-4738-8bdc-cd09e8311bc2",
   "metadata": {},
   "outputs": [
    {
     "name": "stdout",
     "output_type": "stream",
     "text": [
      "[1, 2, 3, 4, 5, 6]\n",
      "[-1, -2, -3, -4, -5]\n"
     ]
    }
   ],
   "source": [
    "#Sort a list of integers into positive and negative integers lists.\n",
    "l6 = [1,2,3,4,5,6,-1,-2,-3,-4,-5,0]\n",
    "positive = [i for i in l6 if i > 0]\n",
    "negative = [i for i in l6 if i < 0]\n",
    "print(positive)\n",
    "print(negative)"
   ]
  },
  {
   "cell_type": "code",
   "execution_count": null,
   "id": "af604d57-9790-4cce-821d-595ee2fc317f",
   "metadata": {},
   "outputs": [],
   "source": []
  }
 ],
 "metadata": {
  "kernelspec": {
   "display_name": "Python 3 (ipykernel)",
   "language": "python",
   "name": "python3"
  },
  "language_info": {
   "codemirror_mode": {
    "name": "ipython",
    "version": 3
   },
   "file_extension": ".py",
   "mimetype": "text/x-python",
   "name": "python",
   "nbconvert_exporter": "python",
   "pygments_lexer": "ipython3",
   "version": "3.10.8"
  }
 },
 "nbformat": 4,
 "nbformat_minor": 5
}
